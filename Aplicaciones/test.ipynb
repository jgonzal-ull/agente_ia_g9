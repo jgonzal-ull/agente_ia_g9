{
 "cells": [
  {
   "cell_type": "code",
   "execution_count": null,
   "id": "b1ca4bd9",
   "metadata": {},
   "outputs": [],
   "source": [
    "# Loaded variable 'df' from URI: /app/Datos/indice.xlsx\n",
    "import pandas as pd\n",
    "df = pd.read_excel(r'/app/Datos/indice.xlsx')"
   ]
  }
 ],
 "metadata": {
  "kernelspec": {
   "display_name": "Python 3",
   "language": "python",
   "name": "python3"
  },
  "language_info": {
   "name": "python",
   "version": "3.10.12"
  }
 },
 "nbformat": 4,
 "nbformat_minor": 5
}
